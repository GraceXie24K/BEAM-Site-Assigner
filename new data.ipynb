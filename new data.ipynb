{
 "cells": [
  {
   "cell_type": "code",
   "execution_count": 100,
   "metadata": {},
   "outputs": [],
   "source": [
    "#Import modules\n",
    "import numpy as np\n",
    "import pandas as pd\n",
    "import random"
   ]
  },
  {
   "cell_type": "code",
   "execution_count": 101,
   "metadata": {},
   "outputs": [
    {
     "name": "stderr",
     "output_type": "stream",
     "text": [
      "<>:1: SyntaxWarning: invalid escape sequence '\\C'\n",
      "<>:1: SyntaxWarning: invalid escape sequence '\\C'\n",
      "C:\\Users\\grace\\AppData\\Local\\Temp\\ipykernel_25480\\3059901807.py:1: SyntaxWarning: invalid escape sequence '\\C'\n",
      "  real_decal = pd.read_excel(\"data\\Condensed Spreadsheet for Grace and Bradley.xlsx\")\n"
     ]
    },
    {
     "data": {
      "text/html": [
       "<div>\n",
       "<style scoped>\n",
       "    .dataframe tbody tr th:only-of-type {\n",
       "        vertical-align: middle;\n",
       "    }\n",
       "\n",
       "    .dataframe tbody tr th {\n",
       "        vertical-align: top;\n",
       "    }\n",
       "\n",
       "    .dataframe thead th {\n",
       "        text-align: right;\n",
       "    }\n",
       "</style>\n",
       "<table border=\"1\" class=\"dataframe\">\n",
       "  <thead>\n",
       "    <tr style=\"text-align: right;\">\n",
       "      <th></th>\n",
       "      <th>Name</th>\n",
       "      <th>Email</th>\n",
       "      <th>Availabilities</th>\n",
       "      <th>Driver1</th>\n",
       "      <th>Driver2</th>\n",
       "      <th>Spanish</th>\n",
       "    </tr>\n",
       "  </thead>\n",
       "  <tbody>\n",
       "    <tr>\n",
       "      <th>0</th>\n",
       "      <td>Owen Spomer</td>\n",
       "      <td>ospomer@berkeley.edu</td>\n",
       "      <td>Tuesday 3:30-4:30pm, Tuesday 3:45-4:45pm*, Tue...</td>\n",
       "      <td>No</td>\n",
       "      <td>No</td>\n",
       "      <td>No</td>\n",
       "    </tr>\n",
       "    <tr>\n",
       "      <th>1</th>\n",
       "      <td>Terry Yesung Han</td>\n",
       "      <td>terryyesunghan@berkeley.edu</td>\n",
       "      <td>Friday 1:30-2:30pm</td>\n",
       "      <td>Yes</td>\n",
       "      <td>Yes</td>\n",
       "      <td>No</td>\n",
       "    </tr>\n",
       "    <tr>\n",
       "      <th>2</th>\n",
       "      <td>Maxwell Edison Stolarz</td>\n",
       "      <td>maxwellstolarz@berkeley.edu</td>\n",
       "      <td>Tuesday 5:00-6:00pm*, Wednesday 1:00-2:00pm, T...</td>\n",
       "      <td>No</td>\n",
       "      <td>No</td>\n",
       "      <td>No</td>\n",
       "    </tr>\n",
       "    <tr>\n",
       "      <th>3</th>\n",
       "      <td>Aaron Presley Garcia</td>\n",
       "      <td>dumbeatz@berkeley.edu</td>\n",
       "      <td>Friday 1:30-2:30pm, Friday 3:15-4:15pm</td>\n",
       "      <td>No</td>\n",
       "      <td>Yes</td>\n",
       "      <td>No</td>\n",
       "    </tr>\n",
       "    <tr>\n",
       "      <th>4</th>\n",
       "      <td>Puteri Sarah Bt. Megat Harris</td>\n",
       "      <td>sarahmegatharris@berkeley.edu</td>\n",
       "      <td>Wednesday 12:00-1:00pm*, Thursday 2:15-3:15pm,...</td>\n",
       "      <td>No</td>\n",
       "      <td>No</td>\n",
       "      <td>No</td>\n",
       "    </tr>\n",
       "  </tbody>\n",
       "</table>\n",
       "</div>"
      ],
      "text/plain": [
       "                            Name                          Email  \\\n",
       "0                    Owen Spomer           ospomer@berkeley.edu   \n",
       "1               Terry Yesung Han    terryyesunghan@berkeley.edu   \n",
       "2         Maxwell Edison Stolarz    maxwellstolarz@berkeley.edu   \n",
       "3           Aaron Presley Garcia          dumbeatz@berkeley.edu   \n",
       "4  Puteri Sarah Bt. Megat Harris  sarahmegatharris@berkeley.edu   \n",
       "\n",
       "                                      Availabilities Driver1 Driver2 Spanish  \n",
       "0  Tuesday 3:30-4:30pm, Tuesday 3:45-4:45pm*, Tue...      No      No      No  \n",
       "1                                 Friday 1:30-2:30pm     Yes     Yes      No  \n",
       "2  Tuesday 5:00-6:00pm*, Wednesday 1:00-2:00pm, T...      No      No      No  \n",
       "3             Friday 1:30-2:30pm, Friday 3:15-4:15pm      No     Yes      No  \n",
       "4  Wednesday 12:00-1:00pm*, Thursday 2:15-3:15pm,...      No      No      No  "
      ]
     },
     "execution_count": 101,
     "metadata": {},
     "output_type": "execute_result"
    }
   ],
   "source": [
    "real_decal = pd.read_excel(\"data\\Condensed Spreadsheet for Grace and Bradley.xlsx\")\n",
    "real_decal.columns = [\"Email\",\"SID\",\"Name\",\"Availabilities\",\"Driver1\", \"Driver2\", \"Spanish\", \"Comments\"]\n",
    "real_decal = real_decal[[\"Name\", \"Email\", \"Availabilities\",\"Driver1\",\"Driver2\", \"Spanish\"]]\n",
    "real_decal.head()"
   ]
  },
  {
   "cell_type": "code",
   "execution_count": 102,
   "metadata": {},
   "outputs": [],
   "source": [
    "accepted_decal = pd.read_excel(\"..\\\\Decal Roster Crosscheck\\\\Non-Waitlisted Decal Members.xlsx\")\n",
    "accepted_decal_emails = accepted_decal[['Email']]\n",
    "decal = real_decal.merge(accepted_decal, on = \"Email\").iloc[:,:6]\n",
    "decal['Availabilities'] = decal['Availabilities'].str.split(\", \")"
   ]
  },
  {
   "cell_type": "code",
   "execution_count": 103,
   "metadata": {},
   "outputs": [],
   "source": [
    "def get_sitetimes_list(decal):\n",
    "    full_set = set()\n",
    "    for lst in decal[\"Availabilities\"]:\n",
    "        if type(lst) == list:\n",
    "            for item in lst:\n",
    "                full_set.add(item.strip())\n",
    "    return full_set\n",
    "\n",
    "def ohe_availabilities(decal, sitetimes):\n",
    "    availbilities = decal['Availabilities']\n",
    "    new_df = pd.DataFrame()\n",
    "    for time in sitetimes:\n",
    "        ohe = []\n",
    "        for person in availbilities:\n",
    "            if type(person) != float:\n",
    "                ohe.append(time in person)\n",
    "        new_df[time] = ohe\n",
    "    full_df = decal.join(new_df)\n",
    "    return full_df\n",
    "\n",
    "def merge_driving_status(decal):\n",
    "    d1 = decal[\"Driver1\"]\n",
    "    d2 = decal[\"Driver2\"]\n",
    "\n",
    "    status = []\n",
    "    for i in range(decal.shape[0]):\n",
    "        status.append(d1[i] == \"Yes\" or d2[i] == \"Yes\")\n",
    "    decal = decal.drop(columns = [\"Driver1\",\"Driver2\"])\n",
    "    decal[\"Driver\"] = status\n",
    "    return decal\n",
    "\n",
    "def fix_spanish(decal):\n",
    "    status = []\n",
    "    spanish = decal[\"Spanish\"]\n",
    "    for i in range(decal.shape[0]):\n",
    "        status.append(spanish[i] == \"Yes\")\n",
    "    decal[\"Spanish\"] = status\n",
    "\n",
    "    return decal"
   ]
  },
  {
   "cell_type": "code",
   "execution_count": 104,
   "metadata": {},
   "outputs": [],
   "source": [
    "sitetimes = list(get_sitetimes_list(decal))\n",
    "decal = ohe_availabilities(decal, sitetimes)\n",
    "decal = merge_driving_status(decal)\n",
    "decal = fix_spanish(decal)"
   ]
  },
  {
   "cell_type": "code",
   "execution_count": 108,
   "metadata": {},
   "outputs": [],
   "source": [
    "decal.to_csv(\"Updated Decal.csv\")"
   ]
  },
  {
   "cell_type": "code",
   "execution_count": null,
   "metadata": {},
   "outputs": [],
   "source": []
  }
 ],
 "metadata": {
  "kernelspec": {
   "display_name": "Python 3",
   "language": "python",
   "name": "python3"
  },
  "language_info": {
   "codemirror_mode": {
    "name": "ipython",
    "version": 3
   },
   "file_extension": ".py",
   "mimetype": "text/x-python",
   "name": "python",
   "nbconvert_exporter": "python",
   "pygments_lexer": "ipython3",
   "version": "3.12.4"
  }
 },
 "nbformat": 4,
 "nbformat_minor": 2
}
